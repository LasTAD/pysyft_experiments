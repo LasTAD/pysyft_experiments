{
  "nbformat": 4,
  "nbformat_minor": 0,
  "metadata": {
    "colab": {
      "name": "PySyft_Exp_DS small signal dataset.ipynb",
      "provenance": [],
      "mount_file_id": "1LMp216z9CgVZoW-aP4ZMUJrb4zQzIpPY",
      "authorship_tag": "ABX9TyMJfOhKrKxoCL6ur1vywjY5",
      "include_colab_link": true
    },
    "kernelspec": {
      "name": "python3",
      "display_name": "Python 3"
    },
    "accelerator": "GPU"
  },
  "cells": [
    {
      "cell_type": "markdown",
      "metadata": {
        "id": "view-in-github",
        "colab_type": "text"
      },
      "source": [
        "<a href=\"https://colab.research.google.com/github/LasTAD/pysyft_experiments/blob/main/PySyft_Exp_DS_small_signal_dataset.ipynb\" target=\"_parent\"><img src=\"https://colab.research.google.com/assets/colab-badge.svg\" alt=\"Open In Colab\"/></a>"
      ]
    },
    {
      "cell_type": "markdown",
      "metadata": {
        "id": "CeJIVUMAcq5l"
      },
      "source": [
        "Подготовка пакета PySyft."
      ]
    },
    {
      "cell_type": "code",
      "metadata": {
        "colab": {
          "base_uri": "https://localhost:8080/"
        },
        "id": "AL0u3SMP2s_7",
        "outputId": "417b5f43-f90a-407d-9766-8651a2d7d465"
      },
      "source": [
        "import sys\n",
        "if \"google.colab\" in sys.modules:\n",
        "    branch = \"master\"    # change to the branch you want\n",
        "    ! git clone --single-branch --branch $branch https://github.com/OpenMined/PySyft.git\n",
        "    ! cd PySyft && ./scripts/colab.sh      # fixes some colab python issues\n",
        "    sys.path.append(\"/content/PySyft/src\") # prevents needing restart"
      ],
      "execution_count": 2,
      "outputs": [
        {
          "output_type": "stream",
          "text": [
            "Cloning into 'PySyft'...\n",
            "remote: Enumerating objects: 2, done.\u001b[K\n",
            "remote: Counting objects: 100% (2/2), done.\u001b[K\n",
            "remote: Compressing objects: 100% (2/2), done.\u001b[K\n",
            "remote: Total 48409 (delta 0), reused 2 (delta 0), pack-reused 48407\u001b[K\n",
            "Receiving objects: 100% (48409/48409), 55.91 MiB | 25.68 MiB/s, done.\n",
            "Resolving deltas: 100% (32540/32540), done.\n",
            "> git pull\n",
            "> using latest commit\n",
            "  15355b7f Delete stale.yml\n",
            "> installing pip requirements\n",
            "> patching python 3.6.9 colab bug\n",
            "sed: can't read /usr/local/lib/python3.6/dist-packages/typeguard/__init__.py: No such file or directory\n",
            "> colab environment ready\n"
          ],
          "name": "stdout"
        }
      ]
    },
    {
      "cell_type": "markdown",
      "metadata": {
        "id": "BnX26qqJc0HJ"
      },
      "source": [
        "Подключение к владельцу данных."
      ]
    },
    {
      "cell_type": "code",
      "metadata": {
        "colab": {
          "base_uri": "https://localhost:8080/",
          "height": 334
        },
        "id": "myCbcmFK28QQ",
        "outputId": "e3e52cfa-f5de-462b-bc69-86e9f6723360"
      },
      "source": [
        "import syft as sy\n",
        "duet = sy.join_duet(\"84cf1e4676903cb28e19440a74e7aa35\")\n",
        "sy.logging(file_path=\"./syft_ds.log\")"
      ],
      "execution_count": 1,
      "outputs": [
        {
          "output_type": "error",
          "ename": "ModuleNotFoundError",
          "evalue": "ignored",
          "traceback": [
            "\u001b[0;31m---------------------------------------------------------------------------\u001b[0m",
            "\u001b[0;31mModuleNotFoundError\u001b[0m                       Traceback (most recent call last)",
            "\u001b[0;32m<ipython-input-1-5f340505644f>\u001b[0m in \u001b[0;36m<module>\u001b[0;34m()\u001b[0m\n\u001b[0;32m----> 1\u001b[0;31m \u001b[0;32mimport\u001b[0m \u001b[0msyft\u001b[0m \u001b[0;32mas\u001b[0m \u001b[0msy\u001b[0m\u001b[0;34m\u001b[0m\u001b[0;34m\u001b[0m\u001b[0m\n\u001b[0m\u001b[1;32m      2\u001b[0m \u001b[0mduet\u001b[0m \u001b[0;34m=\u001b[0m \u001b[0msy\u001b[0m\u001b[0;34m.\u001b[0m\u001b[0mjoin_duet\u001b[0m\u001b[0;34m(\u001b[0m\u001b[0;34m\"84cf1e4676903cb28e19440a74e7aa35\"\u001b[0m\u001b[0;34m)\u001b[0m\u001b[0;34m\u001b[0m\u001b[0;34m\u001b[0m\u001b[0m\n\u001b[1;32m      3\u001b[0m \u001b[0msy\u001b[0m\u001b[0;34m.\u001b[0m\u001b[0mlogging\u001b[0m\u001b[0;34m(\u001b[0m\u001b[0mfile_path\u001b[0m\u001b[0;34m=\u001b[0m\u001b[0;34m\"./syft_ds.log\"\u001b[0m\u001b[0;34m)\u001b[0m\u001b[0;34m\u001b[0m\u001b[0;34m\u001b[0m\u001b[0m\n",
            "\u001b[0;31mModuleNotFoundError\u001b[0m: No module named 'syft'",
            "",
            "\u001b[0;31m---------------------------------------------------------------------------\u001b[0;32m\nNOTE: If your import is failing due to a missing package, you can\nmanually install dependencies using either !pip or !apt.\n\nTo view examples of installing some common dependencies, click the\n\"Open Examples\" button below.\n\u001b[0;31m---------------------------------------------------------------------------\u001b[0m\n"
          ]
        }
      ]
    },
    {
      "cell_type": "code",
      "metadata": {
        "colab": {
          "base_uri": "https://localhost:8080/",
          "height": 198
        },
        "id": "B5fws3S3P3h8",
        "outputId": "013f6835-0d41-45a4-8ad5-f9d94990c3cd"
      },
      "source": [
        "import torch\n",
        "rem_torch = duet.torch"
      ],
      "execution_count": null,
      "outputs": [
        {
          "output_type": "error",
          "ename": "NameError",
          "evalue": "ignored",
          "traceback": [
            "\u001b[0;31m---------------------------------------------------------------------------\u001b[0m",
            "\u001b[0;31mNameError\u001b[0m                                 Traceback (most recent call last)",
            "\u001b[0;32m<ipython-input-1-07f69496b762>\u001b[0m in \u001b[0;36m<module>\u001b[0;34m()\u001b[0m\n\u001b[1;32m      1\u001b[0m \u001b[0;32mimport\u001b[0m \u001b[0mtorch\u001b[0m\u001b[0;34m\u001b[0m\u001b[0;34m\u001b[0m\u001b[0m\n\u001b[0;32m----> 2\u001b[0;31m \u001b[0mrem_torch\u001b[0m \u001b[0;34m=\u001b[0m \u001b[0mduet\u001b[0m\u001b[0;34m.\u001b[0m\u001b[0mtorch\u001b[0m\u001b[0;34m\u001b[0m\u001b[0;34m\u001b[0m\u001b[0m\n\u001b[0m\u001b[1;32m      3\u001b[0m \u001b[0mrem_torch\u001b[0m\u001b[0;34m\u001b[0m\u001b[0;34m\u001b[0m\u001b[0m\n",
            "\u001b[0;31mNameError\u001b[0m: name 'duet' is not defined"
          ]
        }
      ]
    },
    {
      "cell_type": "markdown",
      "metadata": {
        "id": "kQiy_4NCAfv7"
      },
      "source": [
        "Параметры"
      ]
    },
    {
      "cell_type": "code",
      "metadata": {
        "id": "RgyFZR7llR4y"
      },
      "source": [
        "args = {\n",
        "    \"batch_size\": 64,\n",
        "    \"log_batch_size\": 1000,\n",
        "    \"epochs\": 10,\n",
        "    \"lr\": 1.0,\n",
        "    \"gamma\": 0.7,\n",
        "    \"no_cuda\": False,\n",
        "    \"dry_run\": False,\n",
        "    \"seed\": 42, # the meaning of life\n",
        "    \"log_interval\": 10,\n",
        "    \"save_model\": True,\n",
        "}"
      ],
      "execution_count": null,
      "outputs": []
    },
    {
      "cell_type": "markdown",
      "metadata": {
        "id": "ed-QnmLP12ml"
      },
      "source": [
        "Список доступных тензоров"
      ]
    },
    {
      "cell_type": "code",
      "metadata": {
        "id": "__oE981tbvPr"
      },
      "source": [
        "duet.store.pandas"
      ],
      "execution_count": null,
      "outputs": []
    },
    {
      "cell_type": "markdown",
      "metadata": {
        "id": "Rz1Xaqom6iMX"
      },
      "source": [
        "Загрузим удаленные данные"
      ]
    },
    {
      "cell_type": "code",
      "metadata": {
        "id": "4sCaBG5T82sN"
      },
      "source": [
        "X_train = duet.store[\"X_train\"]\n",
        "y_train = duet.store[\"y_train\"]\n",
        "train_num = duet.store[\"train_num\"]"
      ],
      "execution_count": null,
      "outputs": []
    },
    {
      "cell_type": "code",
      "metadata": {
        "id": "2v470u6E6ocB"
      },
      "source": [
        "class DatasetFromPointer(data.Dataset):\n",
        "    def __init__(self, \n",
        "                 X_tensorpointer,\n",
        "                 y_tensorpointer,\n",
        "                 datanum_pointer,\n",
        "                 ):\n",
        "        super(DatasetFromPointer, self).__init__()\n",
        "        self.X_tensorpointer = X_tensorpointer\n",
        "        self.y_tensorpointer = y_tensorpointer\n",
        "        self.datanum_pointer = datanum_pointer\n",
        "\n",
        "    def __getitem__(self, index):\n",
        "        input = self.X_tensorpointer[index]\n",
        "        target = self.y_tensorpointer[index]\n",
        "        return input, target\n",
        "\n",
        "    def __len__(self):\n",
        "        return self.datanum_pointer.get(\n",
        "        request_block=True,\n",
        "        reason=\"To write the training loop\",\n",
        "        timeout_secs=30,\n",
        "        delete_obj=False,\n",
        "    )\n",
        "        \n",
        "def batch_idx_fn(batch):\n",
        "    return batch[0]"
      ],
      "execution_count": null,
      "outputs": []
    },
    {
      "cell_type": "code",
      "metadata": {
        "id": "VNYVvfeo6rAs"
      },
      "source": [
        "train_set = DatasetFromPointer(X_train, y_train, train_num)\n",
        "training_data_loader = DataLoader(dataset=train_set, batch_size=args[\"batchSize\"], shuffle=True, collate_fn=batch_idx_fn)"
      ],
      "execution_count": null,
      "outputs": []
    },
    {
      "cell_type": "markdown",
      "metadata": {
        "id": "zeQOS0uMc5mx"
      },
      "source": [
        "Зададим нашу сеть\n"
      ]
    },
    {
      "cell_type": "code",
      "metadata": {
        "id": "VQvv0fsP39-E"
      },
      "source": [
        "class SyNet(sy.Module):\n",
        "    def __init__(self, torch_ref):\n",
        "        super(SyNet, self).__init__(torch_ref=torch_ref)\n",
        "        self.lin1 = self.torch_ref.nn.Linear(X_train.shape[1],X_train.shape[1]*2)\n",
        "        self.lin2 = self.torch_ref.nn.Linear(X_train.shape[1]*2, 1)\n",
        "       \n",
        "    def forward(self, x):\n",
        "        x = self.torch_ref.nn.functional.relu(self.lin1(x))\n",
        "        output = self.torch_ref.nn.functional.sigmoid(self.lin2(x))\n",
        "        return output"
      ],
      "execution_count": null,
      "outputs": []
    },
    {
      "cell_type": "code",
      "metadata": {
        "id": "neMKVwsIlXQ4"
      },
      "source": [
        "local_net = SyNet(rem_torch)\n",
        "remote_net = model.send(duet)"
      ],
      "execution_count": null,
      "outputs": []
    },
    {
      "cell_type": "markdown",
      "metadata": {
        "id": "UKGPd3N299wA"
      },
      "source": [
        "Проверка CUDA"
      ]
    },
    {
      "cell_type": "code",
      "metadata": {
        "id": "ID3bugj5mDGZ"
      },
      "source": [
        "has_cuda = False\n",
        "has_cuda_ptr = rem_torch.cuda.is_available()\n",
        "has_cuda = bool(has_cuda_ptr.get(\n",
        "    request_block=True,\n",
        "    name=\"cuda_is_available\",\n",
        "    reason=\"To run test and inference locally\",\n",
        "    timeout_secs=5,  # change to something slower\n",
        "))\n",
        "print(has_cuda)\n",
        "\n",
        "use_cuda = not args[\"no_cuda\"] and has_cuda\n",
        "# now we can set the seed\n",
        "rem_torch.manual_seed(args[\"seed\"])\n",
        "\n",
        "device = rem_torch.device(\"cuda\" if use_cuda else \"cpu\")\n",
        "print(f\"Data Owner device is {device.type.get()}\")"
      ],
      "execution_count": null,
      "outputs": []
    },
    {
      "cell_type": "code",
      "metadata": {
        "id": "42mHmksop_43"
      },
      "source": [
        "# if we have CUDA lets send our model to the GPU\n",
        "if has_cuda:\n",
        "    model.cuda(device)\n",
        "else:\n",
        "    model.cpu()"
      ],
      "execution_count": null,
      "outputs": []
    },
    {
      "cell_type": "markdown",
      "metadata": {
        "id": "7Wo2Tu-U4QaS"
      },
      "source": [
        "Обучение модели"
      ]
    },
    {
      "cell_type": "code",
      "metadata": {
        "id": "IDvckty2qGvi"
      },
      "source": [
        "params = model.parameters()\n",
        "optimizer = rem_torch.optim.SGD(params, lr=args[\"lr\"])\n",
        "scheduler = rem_torch.optim.lr_scheduler.StepLR(optimizer, step_size=1, gamma=args[\"gamma\"])\n",
        "criterion = rem_torch.nn.functional.binary_cross_entropy()"
      ],
      "execution_count": null,
      "outputs": []
    },
    {
      "cell_type": "code",
      "metadata": {
        "id": "7F53AB1tqkjc"
      },
      "source": [
        "for epoch in range(args[\"epochs\"]):\n",
        "    \n",
        "    remote_net.train()\n",
        "    epoch_loss = 0\n",
        "    for batch_idx, data_pointers in enumerate(training_data_loader):\n",
        "\n",
        "        optimizer.zero_grad()\n",
        "        data_ptr, target_ptr = data_pointers[0], data_pointers[1]\n",
        "        data_ptr_reshape = remote_torch.unsqueeze(remote_torch.unsqueeze(data_ptr, 0), 0)\n",
        "        target_ptr_reshape = remote_torch.unsqueeze(remote_torch.unsqueeze(target_ptr, 0), 0)\n",
        "       \n",
        "        output_ptr = remote_net(data_ptr_reshape)\n",
        "        \n",
        "        loss = criterion(output_ptr, target_ptr_reshape)\n",
        "        loss.backward()\n",
        "        optimizer.step()\n",
        "\n",
        "        if batch_idx % args[\"log_batch_size\"] == 0:\n",
        "            loss_item = loss.item().get(\n",
        "                reason=\"To evaluate training progress\",\n",
        "                request_block=True,\n",
        "                timeout_secs=3,\n",
        "                delete_obj=False,\n",
        "                verbose=False\n",
        "                )\n",
        "            print(f\"epoch {epoch}, batch_idx {batch_idx}, loss {loss_item}\")\n",
        "\n",
        "        if args[\"dry_run\"]:\n",
        "            break"
      ],
      "execution_count": null,
      "outputs": []
    },
    {
      "cell_type": "markdown",
      "metadata": {
        "id": "WJBL9G2aBEah"
      },
      "source": [
        "Сохранить модель"
      ]
    },
    {
      "cell_type": "code",
      "metadata": {
        "id": "4wMNnrYpBLEY"
      },
      "source": [
        "remote_net.get(\n",
        "    request_block=True,\n",
        "    reason=\"test evaluation\",\n",
        "    timeout_secs=5\n",
        ").save(f\"super_resolve.pt\")"
      ],
      "execution_count": null,
      "outputs": []
    }
  ]
}