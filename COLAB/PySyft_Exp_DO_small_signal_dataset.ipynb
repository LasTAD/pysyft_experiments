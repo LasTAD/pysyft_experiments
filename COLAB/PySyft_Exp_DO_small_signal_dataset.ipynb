{
  "nbformat": 4,
  "nbformat_minor": 0,
  "metadata": {
    "colab": {
      "name": "PySyft_Exp_DO_small signal dataset.ipynb",
      "provenance": [],
      "mount_file_id": "1Wls4FBulhbg0PlV7cXl1GrQjzpyd6CVV",
      "authorship_tag": "ABX9TyNOyvDTcXFF9nNZJ5iJUyMB",
      "include_colab_link": true
    },
    "kernelspec": {
      "name": "python3",
      "display_name": "Python 3"
    },
    "accelerator": "GPU"
  },
  "cells": [
    {
      "cell_type": "markdown",
      "metadata": {
        "id": "view-in-github",
        "colab_type": "text"
      },
      "source": [
        "<a href=\"https://colab.research.google.com/github/LasTAD/pysyft_experiments/blob/main/PySyft_Exp_DO_small_signal_dataset.ipynb\" target=\"_parent\"><img src=\"https://colab.research.google.com/assets/colab-badge.svg\" alt=\"Open In Colab\"/></a>"
      ]
    },
    {
      "cell_type": "markdown",
      "metadata": {
        "id": "jES5vIIJ2WQp"
      },
      "source": [
        "Подготовка среды к выполнению."
      ]
    },
    {
      "cell_type": "code",
      "metadata": {
        "id": "9Q8RoEgQ1xqC",
        "colab": {
          "base_uri": "https://localhost:8080/"
        },
        "outputId": "186b9896-b2b5-4bdb-e82e-45de67cf2c0c"
      },
      "source": [
        "\n",
        "# This only runs in colab and clones the code sets it up and fixes a few issues, \n",
        "# you can skip this if you are running Jupyter Notebooks\n",
        "import sys\n",
        "if \"google.colab\" in sys.modules:\n",
        "    branch = \"dev\"    # change to the branch you want\n",
        "    ! git clone --single-branch --branch $branch https://github.com/OpenMined/PySyft.git\n",
        "    ! cd PySyft && ./scripts/colab.sh      # fixes some colab python issues\n",
        "    sys.path.append(\"/content/PySyft/src\") # prevents needing restart"
      ],
      "execution_count": 1,
      "outputs": [
        {
          "output_type": "stream",
          "text": [
            "Cloning into 'PySyft'...\n",
            "remote: Enumerating objects: 111, done.\u001b[K\n",
            "remote: Counting objects: 100% (111/111), done.\u001b[K\n",
            "remote: Compressing objects: 100% (75/75), done.\u001b[K\n",
            "remote: Total 55872 (delta 34), reused 80 (delta 32), pack-reused 55761\u001b[K\n",
            "Receiving objects: 100% (55872/55872), 58.87 MiB | 21.38 MiB/s, done.\n",
            "Resolving deltas: 100% (37557/37557), done.\n",
            "> git pull\n",
            "> using latest commit\n",
            "  83f0fa85 Merge pull request #5297 from madhavajay/madhava/fix_readme\n",
            "> installing pip requirements\n",
            "> patching python 3.6.9 colab bug\n",
            "sed: can't read /usr/local/lib/python3.6/dist-packages/typeguard/__init__.py: No such file or directory\n",
            "> colab environment ready\n"
          ],
          "name": "stdout"
        }
      ]
    },
    {
      "cell_type": "code",
      "metadata": {
        "colab": {
          "base_uri": "https://localhost:8080/"
        },
        "id": "jeq4a7wyPdLR",
        "outputId": "dab96994-3751-4307-8801-70a24553ead9"
      },
      "source": [
        "from google.colab import drive\n",
        "drive.mount('/content/drive')"
      ],
      "execution_count": null,
      "outputs": [
        {
          "output_type": "stream",
          "text": [
            "Drive already mounted at /content/drive; to attempt to forcibly remount, call drive.mount(\"/content/drive\", force_remount=True).\n"
          ],
          "name": "stdout"
        }
      ]
    },
    {
      "cell_type": "code",
      "metadata": {
        "colab": {
          "base_uri": "https://localhost:8080/"
        },
        "id": "l10xrpDb_gTv",
        "outputId": "e77a88f6-ece6-4a35-d725-9467681d25f9"
      },
      "source": [
        "cd /content/drive/My Drive/Диплом Кобызев Н.П. 5374/PySyft/Эксперименты/Dataset"
      ],
      "execution_count": null,
      "outputs": [
        {
          "output_type": "stream",
          "text": [
            "/content/drive/My Drive/Диплом Кобызев Н.П. 5374/PySyft/Эксперименты/Dataset\n"
          ],
          "name": "stdout"
        }
      ]
    },
    {
      "cell_type": "code",
      "metadata": {
        "colab": {
          "base_uri": "https://localhost:8080/"
        },
        "id": "UIL-O6-bApOe",
        "outputId": "21bc6e41-4046-40bf-a77e-c0ea5baf1780"
      },
      "source": [
        "ls"
      ],
      "execution_count": null,
      "outputs": [
        {
          "output_type": "stream",
          "text": [
            "opel_corsa_01.csv  opel_corsa_02.csv  peugeot_207_01.csv  peugeot_207_02.csv\n"
          ],
          "name": "stdout"
        }
      ]
    },
    {
      "cell_type": "markdown",
      "metadata": {
        "id": "Ef-p08a21CJJ"
      },
      "source": [
        "Подготовка датасета"
      ]
    },
    {
      "cell_type": "code",
      "metadata": {
        "id": "YIgSbel5AYYB"
      },
      "source": [
        "import pandas as pd # data processing, CSV file I/O (e.g. pd.read_csv)\n",
        "from sklearn.model_selection import train_test_split\n",
        "from sklearn import metrics\n",
        "import numpy as np\n",
        "import torch.utils.data"
      ],
      "execution_count": null,
      "outputs": []
    },
    {
      "cell_type": "code",
      "metadata": {
        "colab": {
          "base_uri": "https://localhost:8080/"
        },
        "id": "-5QBJR3GAe6L",
        "outputId": "523f00ad-29c2-4079-a25f-7ac4dd6742ee"
      },
      "source": [
        "df1=pd.read_csv('opel_corsa_01.csv', sep=';',decimal=',')\n",
        "df2=pd.read_csv('opel_corsa_02.csv', sep=';',decimal=',')\n",
        "df3=pd.read_csv('peugeot_207_01.csv', sep=';',decimal=',')\n",
        "df4=pd.read_csv('peugeot_207_02.csv', sep=';',decimal=',')\n",
        "df_Dataset=pd.concat([df1,df2,df3,df4],axis=0)\n",
        "df_Dataset.index"
      ],
      "execution_count": null,
      "outputs": [
        {
          "output_type": "execute_result",
          "data": {
            "text/plain": [
              "Int64Index([   0,    1,    2,    3,    4,    5,    6,    7,    8,    9,\n",
              "            ...\n",
              "            4613, 4614, 4615, 4616, 4617, 4618, 4619, 4620, 4621, 4622],\n",
              "           dtype='int64', length=24957)"
            ]
          },
          "metadata": {
            "tags": []
          },
          "execution_count": 6
        }
      ]
    },
    {
      "cell_type": "code",
      "metadata": {
        "colab": {
          "base_uri": "https://localhost:8080/"
        },
        "id": "ROunAbM7CSiF",
        "outputId": "cc3c755a-b3d8-4d20-89f9-9080eae3af0a"
      },
      "source": [
        "if (df_Dataset.isnull().sum().sum()!=0):\n",
        "    df_Dataset.dropna(axis=0, how='any', thresh=None, subset=None, inplace=True)\n",
        "df_Dataset.index"
      ],
      "execution_count": null,
      "outputs": [
        {
          "output_type": "execute_result",
          "data": {
            "text/plain": [
              "Int64Index([  59,   60,   61,   62,   63,   64,   65,   66,   67,   68,\n",
              "            ...\n",
              "            4613, 4614, 4615, 4616, 4617, 4618, 4619, 4620, 4621, 4622],\n",
              "           dtype='int64', length=23762)"
            ]
          },
          "metadata": {
            "tags": []
          },
          "execution_count": 7
        }
      ]
    },
    {
      "cell_type": "code",
      "metadata": {
        "colab": {
          "base_uri": "https://localhost:8080/"
        },
        "id": "G8M4lz10CY3Q",
        "outputId": "e91cc157-8a92-496a-96d6-c01222499d83"
      },
      "source": [
        "y = df_Dataset['drivingStyle']\n",
        "X = df_Dataset.drop(['drivingStyle','traffic','roadSurface'], axis=1)\n",
        "\n",
        "train_X, test_X, train_y, test_y = train_test_split(X, y, test_size=0.2, random_state=0)\n",
        "\n",
        "y.shape\n",
        "X.shape"
      ],
      "execution_count": null,
      "outputs": [
        {
          "output_type": "execute_result",
          "data": {
            "text/plain": [
              "(23762, 14)"
            ]
          },
          "metadata": {
            "tags": []
          },
          "execution_count": 8
        }
      ]
    },
    {
      "cell_type": "code",
      "metadata": {
        "id": "2Nn4z2TuCnO4"
      },
      "source": [
        "from sklearn.preprocessing import MinMaxScaler\n",
        "\n",
        "feature_scaler = MinMaxScaler()\n",
        "train_X = feature_scaler.fit_transform(train_X)\n",
        "test_X = feature_scaler.transform(test_X)"
      ],
      "execution_count": null,
      "outputs": []
    },
    {
      "cell_type": "code",
      "metadata": {
        "id": "AS1lC7JnFZcA"
      },
      "source": [
        "Xtrain, Xval, Ytrain, Yval = train_test_split(train_X, train_y, test_size=0.2, random_state=5)"
      ],
      "execution_count": null,
      "outputs": []
    },
    {
      "cell_type": "code",
      "metadata": {
        "colab": {
          "base_uri": "https://localhost:8080/"
        },
        "id": "lR2St3aUGlu_",
        "outputId": "53f7da4d-40bc-43b3-f16d-de5d0f71a58b"
      },
      "source": [
        "print(train_X)"
      ],
      "execution_count": null,
      "outputs": [
        {
          "output_type": "stream",
          "text": [
            "[[0.67422128 0.18478262 0.17717839 ... 0.01754386 0.15135287 0.29033371]\n",
            " [0.68271951 0.71681787 0.47275737 ... 0.47368421 0.10151681 0.11742405]\n",
            " [0.68555168 0.47463769 0.4167775  ... 0.21052632 0.11985281 0.17308341]\n",
            " ...\n",
            " [0.61756364 0.4112319  0.46320641 ... 0.15789474 0.11720648 0.02055666]\n",
            " [0.61756364 0.35507245 0.26069473 ... 0.28070175 0.14888521 0.26056512]\n",
            " [0.70254988 0.13405797 0.18209657 ... 0.24561404 0.13815017 0.10133905]]\n"
          ],
          "name": "stdout"
        }
      ]
    },
    {
      "cell_type": "code",
      "metadata": {
        "colab": {
          "base_uri": "https://localhost:8080/"
        },
        "id": "i41XNNhRGpIJ",
        "outputId": "249c7720-fd47-457a-dde0-fe86b0eab89e"
      },
      "source": [
        "train_X.shape"
      ],
      "execution_count": null,
      "outputs": [
        {
          "output_type": "execute_result",
          "data": {
            "text/plain": [
              "(19009, 14)"
            ]
          },
          "metadata": {
            "tags": []
          },
          "execution_count": 12
        }
      ]
    },
    {
      "cell_type": "code",
      "metadata": {
        "colab": {
          "base_uri": "https://localhost:8080/"
        },
        "id": "5Fht-8b3xs3P",
        "outputId": "8dac2752-6d74-44c8-c24e-ec7918a0b4ab"
      },
      "source": [
        "train_y[train_y=='AggressiveStyle']=0\n",
        "train_y[train_y=='EvenPaceStyle']=1\n",
        "train_y\n"
      ],
      "execution_count": null,
      "outputs": [
        {
          "output_type": "execute_result",
          "data": {
            "text/plain": [
              "7127    0\n",
              "6664    1\n",
              "117     1\n",
              "5834    1\n",
              "4302    1\n",
              "       ..\n",
              "2064    1\n",
              "385     1\n",
              "3009    1\n",
              "3997    1\n",
              "2968    1\n",
              "Name: drivingStyle, Length: 19009, dtype: object"
            ]
          },
          "metadata": {
            "tags": []
          },
          "execution_count": 13
        }
      ]
    },
    {
      "cell_type": "code",
      "metadata": {
        "colab": {
          "base_uri": "https://localhost:8080/"
        },
        "id": "BSf7pTdm2-x4",
        "outputId": "6141e19c-3a5f-4ece-bb20-4b5fad8dd0a3"
      },
      "source": [
        "test_y[test_y=='AggressiveStyle']=0\n",
        "test_y[test_y=='EvenPaceStyle']=1\n",
        "test_y"
      ],
      "execution_count": null,
      "outputs": [
        {
          "output_type": "execute_result",
          "data": {
            "text/plain": [
              "1595    1\n",
              "8415    1\n",
              "2530    1\n",
              "5554    1\n",
              "3191    1\n",
              "       ..\n",
              "1623    1\n",
              "4415    1\n",
              "1404    1\n",
              "208     1\n",
              "3727    1\n",
              "Name: drivingStyle, Length: 4753, dtype: object"
            ]
          },
          "metadata": {
            "tags": []
          },
          "execution_count": 14
        }
      ]
    },
    {
      "cell_type": "markdown",
      "metadata": {
        "id": "HiYLNacsNRZc"
      },
      "source": [
        "Запуск Duet"
      ]
    },
    {
      "cell_type": "code",
      "metadata": {
        "colab": {
          "base_uri": "https://localhost:8080/",
          "height": 341
        },
        "id": "gzEmWL1d2pJ4",
        "outputId": "3e070fac-2138-49ef-c73d-d250de3aad8f"
      },
      "source": [
        "import syft as sy\n",
        "duet = sy.launch_duet()\n",
        "sy.logging(file_path=\"./syft_do.log\")"
      ],
      "execution_count": 2,
      "outputs": [
        {
          "output_type": "error",
          "ename": "Exception",
          "evalue": "ignored",
          "traceback": [
            "\u001b[0;31m---------------------------------------------------------------------------\u001b[0m",
            "\u001b[0;31mException\u001b[0m                                 Traceback (most recent call last)",
            "\u001b[0;32m<ipython-input-2-e66a60cd9874>\u001b[0m in \u001b[0;36m<module>\u001b[0;34m()\u001b[0m\n\u001b[0;32m----> 1\u001b[0;31m \u001b[0;32mimport\u001b[0m \u001b[0msyft\u001b[0m \u001b[0;32mas\u001b[0m \u001b[0msy\u001b[0m\u001b[0;34m\u001b[0m\u001b[0;34m\u001b[0m\u001b[0m\n\u001b[0m\u001b[1;32m      2\u001b[0m \u001b[0mduet\u001b[0m \u001b[0;34m=\u001b[0m \u001b[0msy\u001b[0m\u001b[0;34m.\u001b[0m\u001b[0mlaunch_duet\u001b[0m\u001b[0;34m(\u001b[0m\u001b[0;34m)\u001b[0m\u001b[0;34m\u001b[0m\u001b[0;34m\u001b[0m\u001b[0m\n\u001b[1;32m      3\u001b[0m \u001b[0msy\u001b[0m\u001b[0;34m.\u001b[0m\u001b[0mlogging\u001b[0m\u001b[0;34m(\u001b[0m\u001b[0mfile_path\u001b[0m\u001b[0;34m=\u001b[0m\u001b[0;34m\"./syft_do.log\"\u001b[0m\u001b[0;34m)\u001b[0m\u001b[0;34m\u001b[0m\u001b[0;34m\u001b[0m\u001b[0m\n",
            "\u001b[0;32m/content/PySyft/src/syft/__init__.py\u001b[0m in \u001b[0;36m<module>\u001b[0;34m()\u001b[0m\n\u001b[1;32m     45\u001b[0m \u001b[0;31m# ASTRACT OBJECT IMPORTS\u001b[0m\u001b[0;34m\u001b[0m\u001b[0;34m\u001b[0m\u001b[0;34m\u001b[0m\u001b[0m\n\u001b[1;32m     46\u001b[0m \u001b[0;32mfrom\u001b[0m \u001b[0msyft\u001b[0m\u001b[0;34m.\u001b[0m\u001b[0mcore\u001b[0m \u001b[0;32mimport\u001b[0m \u001b[0mcommon\u001b[0m  \u001b[0;31m# noqa: F401\u001b[0m\u001b[0;34m\u001b[0m\u001b[0;34m\u001b[0m\u001b[0m\n\u001b[0;32m---> 47\u001b[0;31m \u001b[0;32mfrom\u001b[0m \u001b[0msyft\u001b[0m\u001b[0;34m.\u001b[0m\u001b[0mcore\u001b[0m\u001b[0;34m.\u001b[0m\u001b[0mcommon\u001b[0m \u001b[0;32mimport\u001b[0m \u001b[0mevent_loop\u001b[0m  \u001b[0;31m# noqa: F401\u001b[0m\u001b[0;34m\u001b[0m\u001b[0;34m\u001b[0m\u001b[0m\n\u001b[0m\u001b[1;32m     48\u001b[0m \u001b[0;34m\u001b[0m\u001b[0m\n\u001b[1;32m     49\u001b[0m \u001b[0;31m# Convenience Methods\u001b[0m\u001b[0;34m\u001b[0m\u001b[0;34m\u001b[0m\u001b[0;34m\u001b[0m\u001b[0m\n",
            "\u001b[0;32m/content/PySyft/src/syft/core/common/event_loop.py\u001b[0m in \u001b[0;36m<module>\u001b[0;34m()\u001b[0m\n\u001b[1;32m     12\u001b[0m \u001b[0;31m# syft relative\u001b[0m\u001b[0;34m\u001b[0m\u001b[0;34m\u001b[0m\u001b[0;34m\u001b[0m\u001b[0m\n\u001b[1;32m     13\u001b[0m \u001b[0;32mfrom\u001b[0m \u001b[0;34m...\u001b[0m\u001b[0mlogger\u001b[0m \u001b[0;32mimport\u001b[0m \u001b[0minfo\u001b[0m\u001b[0;34m\u001b[0m\u001b[0;34m\u001b[0m\u001b[0m\n\u001b[0;32m---> 14\u001b[0;31m \u001b[0;32mfrom\u001b[0m \u001b[0;34m.\u001b[0m\u001b[0menvironment\u001b[0m \u001b[0;32mimport\u001b[0m \u001b[0mis_interactive\u001b[0m\u001b[0;34m\u001b[0m\u001b[0;34m\u001b[0m\u001b[0m\n\u001b[0m\u001b[1;32m     15\u001b[0m \u001b[0;32mfrom\u001b[0m \u001b[0;34m.\u001b[0m\u001b[0menvironment\u001b[0m \u001b[0;32mimport\u001b[0m \u001b[0mis_jupyter\u001b[0m\u001b[0;34m\u001b[0m\u001b[0;34m\u001b[0m\u001b[0m\n\u001b[1;32m     16\u001b[0m \u001b[0;34m\u001b[0m\u001b[0m\n",
            "\u001b[0;32m/content/PySyft/src/syft/core/common/environment.py\u001b[0m in \u001b[0;36m<module>\u001b[0;34m()\u001b[0m\n\u001b[1;32m     17\u001b[0m     \u001b[0;32mif\u001b[0m \u001b[0mNOTEBOOK_VERSION\u001b[0m \u001b[0;34m<\u001b[0m \u001b[0mversion\u001b[0m\u001b[0;34m.\u001b[0m\u001b[0mparse\u001b[0m\u001b[0;34m(\u001b[0m\u001b[0;34m\"6.0.0\"\u001b[0m\u001b[0;34m)\u001b[0m\u001b[0;34m:\u001b[0m\u001b[0;34m\u001b[0m\u001b[0;34m\u001b[0m\u001b[0m\n\u001b[1;32m     18\u001b[0m         raise Exception(\n\u001b[0;32m---> 19\u001b[0;31m             \u001b[0;34m\"Your Jupyter Notebook is too old. Please upgrade to version 6 or higher.\"\u001b[0m\u001b[0;34m\u001b[0m\u001b[0;34m\u001b[0m\u001b[0m\n\u001b[0m\u001b[1;32m     20\u001b[0m         )\n\u001b[1;32m     21\u001b[0m \u001b[0;32mexcept\u001b[0m \u001b[0mNameError\u001b[0m\u001b[0;34m:\u001b[0m\u001b[0;34m\u001b[0m\u001b[0;34m\u001b[0m\u001b[0m\n",
            "\u001b[0;31mException\u001b[0m: Your Jupyter Notebook is too old. Please upgrade to version 6 or higher."
          ]
        }
      ]
    },
    {
      "cell_type": "code",
      "metadata": {
        "id": "CkdGYiXcQz4S"
      },
      "source": [
        "import torch\n",
        "\n",
        "# determine the supported device\n",
        "def get_device():\n",
        "    if torch.cuda.is_available():\n",
        "        device = torch.device('cuda:0')\n",
        "    else:\n",
        "        device = torch.device('cpu') # don't have GPU \n",
        "    return device\n",
        "\n",
        "# convert a df to tensor to be used in pytorch\n",
        "def df_to_tensor(df):\n",
        "    device = get_device()\n",
        "    return torch.from_numpy(df).float().to(device)"
      ],
      "execution_count": null,
      "outputs": []
    },
    {
      "cell_type": "markdown",
      "metadata": {
        "id": "Zl4ejaMZ1JCK"
      },
      "source": [
        "Загрузка тензоров в Duet store"
      ]
    },
    {
      "cell_type": "code",
      "metadata": {
        "id": "TT7PAwlwXM7O"
      },
      "source": [
        "X_train = df_to_tensor(train_X)\n",
        "torch.Tensor.tag(X_train, 'Train X')\n",
        "torch.Tensor.send(X_train, duet, searchable=True)\n",
        "\n",
        "Y_train = df_to_tensor(train_y.to_numpy(dtype=np.float64))\n",
        "torch.Tensor.tag(Y_train, 'Train Y')\n",
        "torch.Tensor.send(Y_train, duet, searchable=True)\n",
        "\n",
        "X_test = df_to_tensor(test_X)\n",
        "torch.Tensor.tag(X_test, 'Test X')\n",
        "torch.Tensor.send(X_test, duet, searchable=True)\n",
        "\n",
        "Y_test = df_to_tensor(test_y.to_numpy(dtype=np.float64))\n",
        "torch.Tensor.tag(X_test, 'Test Y')\n",
        "torch.Tensor.send(X_test, duet, searchable=True)"
      ],
      "execution_count": null,
      "outputs": []
    },
    {
      "cell_type": "code",
      "metadata": {
        "id": "voAK8Sx74ASK"
      },
      "source": [
        "train_num = sy.lib.python.Int(X_train.shape[0])\n",
        "train_num.tag(\"train_num\")\n",
        "train_num.send(duet, searchable=True)"
      ],
      "execution_count": null,
      "outputs": []
    },
    {
      "cell_type": "code",
      "metadata": {
        "id": "s6l4JaK1dvnG"
      },
      "source": [
        "duet.store.pandas"
      ],
      "execution_count": null,
      "outputs": []
    },
    {
      "cell_type": "code",
      "metadata": {
        "id": "-ePrsbGse_Hp"
      },
      "source": [
        "duet.requests.pandas"
      ],
      "execution_count": null,
      "outputs": []
    },
    {
      "cell_type": "code",
      "metadata": {
        "id": "y6k3yQDG1vMB"
      },
      "source": [
        "duet.requests[0].accept()"
      ],
      "execution_count": null,
      "outputs": []
    },
    {
      "cell_type": "code",
      "metadata": {
        "id": "BLLD2T9Qfnl3"
      },
      "source": [
        "duet.requests.add_handler(\n",
        "    name=\"cuda_is_available\",\n",
        "    action=\"accept\"\n",
        ")\n",
        "\n",
        "duet.requests.add_handler(\n",
        "    name=\"loss\",\n",
        "    action=\"accept\",\n",
        "    timeout_secs=-1,  # no timeout\n",
        "    print_local=True  # print the result in your notebook\n",
        ")\n",
        "\n",
        "duet.requests.add_handler(\n",
        "    name=\"train_size\",\n",
        "    action=\"accept\"\n",
        ")\n",
        "\n",
        "duet.requests.add_handler(\n",
        "    name=\"inference\",\n",
        "    action=\"accept\"\n",
        ")\n",
        "\n",
        "duet.requests.add_handler(\n",
        "    name=\"model_download\",\n",
        "    action=\"accept\"\n",
        ")"
      ],
      "execution_count": null,
      "outputs": []
    },
    {
      "cell_type": "code",
      "metadata": {
        "id": "W3AjAJh6kTuR"
      },
      "source": [
        "duet.requests.handlers"
      ],
      "execution_count": null,
      "outputs": []
    }
  ]
}